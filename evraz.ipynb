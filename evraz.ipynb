{
 "cells": [
  {
   "cell_type": "code",
   "execution_count": 1,
   "id": "32d17256",
   "metadata": {},
   "outputs": [],
   "source": [
    "import warnings\n",
    "warnings.filterwarnings(\"ignore\")"
   ]
  },
  {
   "cell_type": "code",
   "execution_count": 2,
   "id": "f3aa4fb7",
   "metadata": {},
   "outputs": [],
   "source": [
    "import pandas as pd\n",
    "import matplotlib.pyplot as plt\n",
    "import seaborn as sns\n",
    "import numpy as np\n",
    "\n",
    "from sklearn.metrics import make_scorer\n",
    "\n",
    "np.random.seed(1)"
   ]
  },
  {
   "cell_type": "markdown",
   "id": "79b739b8",
   "metadata": {},
   "source": [
    "# METRICS"
   ]
  },
  {
   "cell_type": "code",
   "execution_count": 3,
   "id": "4d3fcb45",
   "metadata": {},
   "outputs": [],
   "source": [
    "def metric(answers, user_csv):\n",
    "\n",
    "    delta_c = np.abs(np.array(answers['C']) - np.array(user_csv['C']))\n",
    "    hit_rate_c = np.int64(delta_c < 0.02)\n",
    "\n",
    "    delta_t = np.abs(np.array(answers['TST']) - np.array(user_csv['TST']))\n",
    "    hit_rate_t = np.int64(delta_t < 20)\n",
    "\n",
    "    N = np.size(answers['C'])\n",
    "\n",
    "    return np.sum(hit_rate_c + hit_rate_t) / 2 / N\n",
    "\n",
    "score = make_scorer(metric, greater_is_better=False)"
   ]
  },
  {
   "cell_type": "code",
   "execution_count": 4,
   "id": "b48febba",
   "metadata": {},
   "outputs": [],
   "source": [
    "def prepare_plavki(dataset):\n",
    "    \n",
    "    dataset.drop_duplicates(subset=['NPLV'], keep='first', inplace=True)\n",
    "    \n",
    "    df = pd.DataFrame({\n",
    "        'NPLV': dataset['NPLV'].values,\n",
    "        'plavka_VR_NACH': dataset['plavka_VR_NACH'].values,\n",
    "        'plavka_VR_KON': dataset['plavka_VR_KON'].values,\n",
    "    })\n",
    "\n",
    "    \n",
    "    df['plavka_VR_NACH'] = pd.to_datetime(df['plavka_VR_NACH'])\n",
    "    df['plavka_VR_KON'] = pd.to_datetime(df['plavka_VR_KON'])\n",
    "    df['duration'] = df['plavka_VR_KON'] - df['plavka_VR_NACH']\n",
    "    df['duration'] = df['duration'].dt.total_seconds()\n",
    "    \n",
    "    df_type_fur = pd.get_dummies(dataset['plavka_TIPE_FUR'], drop_first=True, prefix='type')\n",
    "    df_napr = pd.get_dummies(dataset['plavka_NAPR_ZAD'], drop_first=True, prefix='napr')\n",
    "    \n",
    "    df = df.join(df_type_fur)\n",
    "    df = df.join(df_napr)\n",
    "\n",
    "    \n",
    "    return df\n",
    "\n",
    "\n",
    "def prepare_lom(dataset):\n",
    "    \"\"\"\n",
    "        Суммирует массу всех ломов, которые были использованы\n",
    "    \"\"\"                \n",
    "    dataset.rename(columns={\"VES\":\"VES_loma\"}, inplace=True)\n",
    "    \n",
    "    dataset.drop(columns=['VDL'], inplace=True)\n",
    "    \n",
    "    dataset = pd.get_dummies(dataset, columns=['NML'])\n",
    "    \n",
    "    for i in range(dataset.shape[0]):\n",
    "        for col in dataset.columns:\n",
    "            if dataset.loc[i, col] == 1:\n",
    "                dataset.loc[i, col] = dataset.loc[i, 'VES_loma']\n",
    "    \n",
    "    df = dataset.groupby('NPLV').sum().reset_index()\n",
    "    \n",
    "    return df\n",
    "\n",
    "\n",
    "def prepare_chugun(dataset):\n",
    "    \"\"\"\n",
    "        Переводит 'DATA_ZAMERA' к pd.datetimeи переименовывает в \"zamer_chuguna\"\n",
    "    \"\"\"\n",
    "    df = dataset\n",
    "    df[dataset.columns[-1]] = pd.to_datetime(df[df.columns[-1]])\n",
    "    df.rename(columns={df.columns[-1]: \"zamer_chuguna\", \"VES\":\"VES_chuguna\"}, inplace=True)\n",
    "    \n",
    "    return df\n",
    "\n",
    "\n",
    "def prepare_dataset(plavki, lom, chugun):\n",
    "    \n",
    "    dataset = plavki\n",
    "    dataset = dataset.join(lom.set_index('NPLV'), on='NPLV')\n",
    "    dataset = dataset.join(chugun.set_index('NPLV'), on='NPLV')\n",
    "    \n",
    "    dataset['zamer_chuguna'] = dataset['zamer_chuguna'] - dataset['plavka_VR_NACH']\n",
    "    dataset['zamer_chuguna'] = dataset['zamer_chuguna'].dt.total_seconds()\n",
    "    \n",
    "    dataset.drop(columns=['plavka_VR_NACH', 'plavka_VR_KON'], inplace=True)\n",
    "    \n",
    "    return dataset"
   ]
  },
  {
   "cell_type": "markdown",
   "id": "cf9be266",
   "metadata": {},
   "source": [
    "# Data Prep"
   ]
  },
  {
   "cell_type": "code",
   "execution_count": 5,
   "id": "54334016",
   "metadata": {},
   "outputs": [],
   "source": [
    "plavki_train = pd.read_csv('train/plavki_train.csv')\n",
    "plavki_test = pd.read_csv('test/plavki_test.csv')\n",
    "\n",
    "lom_train = pd.read_csv('train/lom_train.csv')\n",
    "lom_test = pd.read_csv('test/lom_test.csv')\n",
    "\n",
    "chugun_train = pd.read_csv('train/chugun_train.csv')\n",
    "chugun_test = pd.read_csv('test/chugun_test.csv')"
   ]
  },
  {
   "cell_type": "code",
   "execution_count": 6,
   "id": "b82137b1",
   "metadata": {},
   "outputs": [],
   "source": [
    "plavki_tr = prepare_plavki(plavki_train)\n",
    "plavki_te = prepare_plavki(plavki_test)\n",
    "\n",
    "lom_tr = prepare_lom(lom_train)\n",
    "lom_te = prepare_lom(lom_test)\n",
    "\n",
    "chugun_tr = prepare_chugun(chugun_train)\n",
    "chugun_te = prepare_chugun(chugun_test)"
   ]
  },
  {
   "cell_type": "code",
   "execution_count": 7,
   "id": "82c2a74b",
   "metadata": {},
   "outputs": [],
   "source": [
    "lom_tr.drop(columns=['NML_НБ  '], inplace=True)"
   ]
  },
  {
   "cell_type": "code",
   "execution_count": 8,
   "id": "f3ecdd34",
   "metadata": {},
   "outputs": [],
   "source": [
    "y = pd.read_csv('train/target_train.csv')\n",
    "\n",
    "y.fillna(0, inplace=True)"
   ]
  },
  {
   "cell_type": "code",
   "execution_count": 11,
   "id": "65686eea",
   "metadata": {},
   "outputs": [],
   "source": [
    "dataset_train = prepare_dataset(plavki_tr, lom_tr, chugun_tr)\n",
    "dataset_test = prepare_dataset(plavki_te, lom_te, chugun_te)"
   ]
  },
  {
   "cell_type": "code",
   "execution_count": 12,
   "id": "0af04078",
   "metadata": {
    "scrolled": false
   },
   "outputs": [
    {
     "data": {
      "text/html": [
       "<div>\n",
       "<style scoped>\n",
       "    .dataframe tbody tr th:only-of-type {\n",
       "        vertical-align: middle;\n",
       "    }\n",
       "\n",
       "    .dataframe tbody tr th {\n",
       "        vertical-align: top;\n",
       "    }\n",
       "\n",
       "    .dataframe thead th {\n",
       "        text-align: right;\n",
       "    }\n",
       "</style>\n",
       "<table border=\"1\" class=\"dataframe\">\n",
       "  <thead>\n",
       "    <tr style=\"text-align: right;\">\n",
       "      <th></th>\n",
       "      <th>NPLV</th>\n",
       "      <th>duration</th>\n",
       "      <th>type_цилиндрическая</th>\n",
       "      <th>napr_МНЛЗ</th>\n",
       "      <th>napr_МНЛС</th>\n",
       "      <th>VES_loma</th>\n",
       "      <th>NML_25КШ</th>\n",
       "      <th>NML_К</th>\n",
       "      <th>NML_КП</th>\n",
       "      <th>NML_КШС8</th>\n",
       "      <th>...</th>\n",
       "      <th>SI</th>\n",
       "      <th>MN</th>\n",
       "      <th>S</th>\n",
       "      <th>P</th>\n",
       "      <th>CR</th>\n",
       "      <th>NI</th>\n",
       "      <th>CU</th>\n",
       "      <th>V</th>\n",
       "      <th>TI</th>\n",
       "      <th>zamer_chuguna</th>\n",
       "    </tr>\n",
       "  </thead>\n",
       "  <tbody>\n",
       "    <tr>\n",
       "      <th>0</th>\n",
       "      <td>510008</td>\n",
       "      <td>2579.0</td>\n",
       "      <td>1.0</td>\n",
       "      <td>1.0</td>\n",
       "      <td>0.0</td>\n",
       "      <td>76200</td>\n",
       "      <td>0</td>\n",
       "      <td>56500</td>\n",
       "      <td>3000</td>\n",
       "      <td>0</td>\n",
       "      <td>...</td>\n",
       "      <td>0.44</td>\n",
       "      <td>0.22</td>\n",
       "      <td>0.023</td>\n",
       "      <td>0.097</td>\n",
       "      <td>0.03</td>\n",
       "      <td>0.01</td>\n",
       "      <td>0.03</td>\n",
       "      <td>0.103</td>\n",
       "      <td>0.084</td>\n",
       "      <td>412.0</td>\n",
       "    </tr>\n",
       "    <tr>\n",
       "      <th>1</th>\n",
       "      <td>510009</td>\n",
       "      <td>4004.0</td>\n",
       "      <td>1.0</td>\n",
       "      <td>1.0</td>\n",
       "      <td>0.0</td>\n",
       "      <td>78600</td>\n",
       "      <td>0</td>\n",
       "      <td>49800</td>\n",
       "      <td>6000</td>\n",
       "      <td>0</td>\n",
       "      <td>...</td>\n",
       "      <td>0.68</td>\n",
       "      <td>0.20</td>\n",
       "      <td>0.017</td>\n",
       "      <td>0.087</td>\n",
       "      <td>0.02</td>\n",
       "      <td>0.01</td>\n",
       "      <td>0.03</td>\n",
       "      <td>0.084</td>\n",
       "      <td>0.096</td>\n",
       "      <td>1384.0</td>\n",
       "    </tr>\n",
       "    <tr>\n",
       "      <th>2</th>\n",
       "      <td>510010</td>\n",
       "      <td>2904.0</td>\n",
       "      <td>1.0</td>\n",
       "      <td>0.0</td>\n",
       "      <td>0.0</td>\n",
       "      <td>76300</td>\n",
       "      <td>0</td>\n",
       "      <td>45900</td>\n",
       "      <td>2000</td>\n",
       "      <td>0</td>\n",
       "      <td>...</td>\n",
       "      <td>0.56</td>\n",
       "      <td>0.26</td>\n",
       "      <td>0.017</td>\n",
       "      <td>0.096</td>\n",
       "      <td>0.03</td>\n",
       "      <td>0.01</td>\n",
       "      <td>0.03</td>\n",
       "      <td>0.115</td>\n",
       "      <td>0.110</td>\n",
       "      <td>551.0</td>\n",
       "    </tr>\n",
       "    <tr>\n",
       "      <th>3</th>\n",
       "      <td>510011</td>\n",
       "      <td>3291.0</td>\n",
       "      <td>1.0</td>\n",
       "      <td>0.0</td>\n",
       "      <td>0.0</td>\n",
       "      <td>84100</td>\n",
       "      <td>0</td>\n",
       "      <td>51900</td>\n",
       "      <td>3000</td>\n",
       "      <td>0</td>\n",
       "      <td>...</td>\n",
       "      <td>0.48</td>\n",
       "      <td>0.27</td>\n",
       "      <td>0.018</td>\n",
       "      <td>0.091</td>\n",
       "      <td>0.03</td>\n",
       "      <td>0.01</td>\n",
       "      <td>0.02</td>\n",
       "      <td>0.112</td>\n",
       "      <td>0.110</td>\n",
       "      <td>429.0</td>\n",
       "    </tr>\n",
       "    <tr>\n",
       "      <th>4</th>\n",
       "      <td>510012</td>\n",
       "      <td>2895.0</td>\n",
       "      <td>1.0</td>\n",
       "      <td>0.0</td>\n",
       "      <td>1.0</td>\n",
       "      <td>76100</td>\n",
       "      <td>0</td>\n",
       "      <td>64000</td>\n",
       "      <td>6000</td>\n",
       "      <td>0</td>\n",
       "      <td>...</td>\n",
       "      <td>0.47</td>\n",
       "      <td>0.23</td>\n",
       "      <td>0.018</td>\n",
       "      <td>0.096</td>\n",
       "      <td>0.02</td>\n",
       "      <td>0.01</td>\n",
       "      <td>0.03</td>\n",
       "      <td>0.083</td>\n",
       "      <td>0.070</td>\n",
       "      <td>558.0</td>\n",
       "    </tr>\n",
       "  </tbody>\n",
       "</table>\n",
       "<p>5 rows × 27 columns</p>\n",
       "</div>"
      ],
      "text/plain": [
       "     NPLV  duration  type_цилиндрическая  napr_МНЛЗ  napr_МНЛС  VES_loma  \\\n",
       "0  510008    2579.0                  1.0        1.0        0.0     76200   \n",
       "1  510009    4004.0                  1.0        1.0        0.0     78600   \n",
       "2  510010    2904.0                  1.0        0.0        0.0     76300   \n",
       "3  510011    3291.0                  1.0        0.0        0.0     84100   \n",
       "4  510012    2895.0                  1.0        0.0        1.0     76100   \n",
       "\n",
       "   NML_25КШ  NML_К     NML_КП    NML_КШС8  ...    SI    MN      S      P  \\\n",
       "0         0     56500      3000         0  ...  0.44  0.22  0.023  0.097   \n",
       "1         0     49800      6000         0  ...  0.68  0.20  0.017  0.087   \n",
       "2         0     45900      2000         0  ...  0.56  0.26  0.017  0.096   \n",
       "3         0     51900      3000         0  ...  0.48  0.27  0.018  0.091   \n",
       "4         0     64000      6000         0  ...  0.47  0.23  0.018  0.096   \n",
       "\n",
       "     CR    NI    CU      V     TI  zamer_chuguna  \n",
       "0  0.03  0.01  0.03  0.103  0.084          412.0  \n",
       "1  0.02  0.01  0.03  0.084  0.096         1384.0  \n",
       "2  0.03  0.01  0.03  0.115  0.110          551.0  \n",
       "3  0.03  0.01  0.02  0.112  0.110          429.0  \n",
       "4  0.02  0.01  0.03  0.083  0.070          558.0  \n",
       "\n",
       "[5 rows x 27 columns]"
      ]
     },
     "execution_count": 12,
     "metadata": {},
     "output_type": "execute_result"
    }
   ],
   "source": [
    "dataset_train.head()"
   ]
  },
  {
   "cell_type": "code",
   "execution_count": 13,
   "id": "0d72270a",
   "metadata": {},
   "outputs": [
    {
     "data": {
      "text/html": [
       "<div>\n",
       "<style scoped>\n",
       "    .dataframe tbody tr th:only-of-type {\n",
       "        vertical-align: middle;\n",
       "    }\n",
       "\n",
       "    .dataframe tbody tr th {\n",
       "        vertical-align: top;\n",
       "    }\n",
       "\n",
       "    .dataframe thead th {\n",
       "        text-align: right;\n",
       "    }\n",
       "</style>\n",
       "<table border=\"1\" class=\"dataframe\">\n",
       "  <thead>\n",
       "    <tr style=\"text-align: right;\">\n",
       "      <th></th>\n",
       "      <th>NPLV</th>\n",
       "      <th>duration</th>\n",
       "      <th>type_цилиндрическая</th>\n",
       "      <th>napr_МНЛЗ</th>\n",
       "      <th>napr_МНЛС</th>\n",
       "      <th>VES_loma</th>\n",
       "      <th>NML_25КШ</th>\n",
       "      <th>NML_К</th>\n",
       "      <th>NML_КП</th>\n",
       "      <th>NML_КШС8</th>\n",
       "      <th>...</th>\n",
       "      <th>SI</th>\n",
       "      <th>MN</th>\n",
       "      <th>S</th>\n",
       "      <th>P</th>\n",
       "      <th>CR</th>\n",
       "      <th>NI</th>\n",
       "      <th>CU</th>\n",
       "      <th>V</th>\n",
       "      <th>TI</th>\n",
       "      <th>zamer_chuguna</th>\n",
       "    </tr>\n",
       "  </thead>\n",
       "  <tbody>\n",
       "    <tr>\n",
       "      <th>0</th>\n",
       "      <td>512324</td>\n",
       "      <td>3886.0</td>\n",
       "      <td>1</td>\n",
       "      <td>0</td>\n",
       "      <td>0</td>\n",
       "      <td>45700</td>\n",
       "      <td>0</td>\n",
       "      <td>26040</td>\n",
       "      <td>2000</td>\n",
       "      <td>0</td>\n",
       "      <td>...</td>\n",
       "      <td>0.46</td>\n",
       "      <td>0.33</td>\n",
       "      <td>0.027</td>\n",
       "      <td>0.079</td>\n",
       "      <td>0.01</td>\n",
       "      <td>0.01</td>\n",
       "      <td>0.02</td>\n",
       "      <td>0.048</td>\n",
       "      <td>0.030</td>\n",
       "      <td>-1107.0</td>\n",
       "    </tr>\n",
       "    <tr>\n",
       "      <th>1</th>\n",
       "      <td>512327</td>\n",
       "      <td>3325.0</td>\n",
       "      <td>1</td>\n",
       "      <td>0</td>\n",
       "      <td>1</td>\n",
       "      <td>71000</td>\n",
       "      <td>0</td>\n",
       "      <td>49400</td>\n",
       "      <td>3000</td>\n",
       "      <td>0</td>\n",
       "      <td>...</td>\n",
       "      <td>0.30</td>\n",
       "      <td>0.33</td>\n",
       "      <td>0.032</td>\n",
       "      <td>0.099</td>\n",
       "      <td>0.01</td>\n",
       "      <td>0.00</td>\n",
       "      <td>0.00</td>\n",
       "      <td>0.050</td>\n",
       "      <td>0.024</td>\n",
       "      <td>-3991.0</td>\n",
       "    </tr>\n",
       "    <tr>\n",
       "      <th>2</th>\n",
       "      <td>512328</td>\n",
       "      <td>5780.0</td>\n",
       "      <td>1</td>\n",
       "      <td>0</td>\n",
       "      <td>0</td>\n",
       "      <td>71700</td>\n",
       "      <td>0</td>\n",
       "      <td>65700</td>\n",
       "      <td>6000</td>\n",
       "      <td>0</td>\n",
       "      <td>...</td>\n",
       "      <td>0.00</td>\n",
       "      <td>0.00</td>\n",
       "      <td>0.000</td>\n",
       "      <td>0.000</td>\n",
       "      <td>0.00</td>\n",
       "      <td>0.00</td>\n",
       "      <td>0.00</td>\n",
       "      <td>0.000</td>\n",
       "      <td>0.000</td>\n",
       "      <td>1569.0</td>\n",
       "    </tr>\n",
       "    <tr>\n",
       "      <th>3</th>\n",
       "      <td>512331</td>\n",
       "      <td>5252.0</td>\n",
       "      <td>1</td>\n",
       "      <td>0</td>\n",
       "      <td>0</td>\n",
       "      <td>70500</td>\n",
       "      <td>0</td>\n",
       "      <td>36000</td>\n",
       "      <td>2000</td>\n",
       "      <td>0</td>\n",
       "      <td>...</td>\n",
       "      <td>0.54</td>\n",
       "      <td>0.39</td>\n",
       "      <td>0.028</td>\n",
       "      <td>0.115</td>\n",
       "      <td>0.02</td>\n",
       "      <td>0.01</td>\n",
       "      <td>0.03</td>\n",
       "      <td>0.059</td>\n",
       "      <td>0.042</td>\n",
       "      <td>-1415.0</td>\n",
       "    </tr>\n",
       "    <tr>\n",
       "      <th>4</th>\n",
       "      <td>512333</td>\n",
       "      <td>3828.0</td>\n",
       "      <td>1</td>\n",
       "      <td>0</td>\n",
       "      <td>1</td>\n",
       "      <td>104500</td>\n",
       "      <td>0</td>\n",
       "      <td>40300</td>\n",
       "      <td>2000</td>\n",
       "      <td>0</td>\n",
       "      <td>...</td>\n",
       "      <td>0.00</td>\n",
       "      <td>0.00</td>\n",
       "      <td>0.000</td>\n",
       "      <td>0.000</td>\n",
       "      <td>0.00</td>\n",
       "      <td>0.00</td>\n",
       "      <td>0.00</td>\n",
       "      <td>0.000</td>\n",
       "      <td>0.000</td>\n",
       "      <td>305.0</td>\n",
       "    </tr>\n",
       "  </tbody>\n",
       "</table>\n",
       "<p>5 rows × 27 columns</p>\n",
       "</div>"
      ],
      "text/plain": [
       "     NPLV  duration  type_цилиндрическая  napr_МНЛЗ  napr_МНЛС  VES_loma  \\\n",
       "0  512324    3886.0                    1          0          0     45700   \n",
       "1  512327    3325.0                    1          0          1     71000   \n",
       "2  512328    5780.0                    1          0          0     71700   \n",
       "3  512331    5252.0                    1          0          0     70500   \n",
       "4  512333    3828.0                    1          0          1    104500   \n",
       "\n",
       "   NML_25КШ  NML_К     NML_КП    NML_КШС8  ...    SI    MN      S      P  \\\n",
       "0         0     26040      2000         0  ...  0.46  0.33  0.027  0.079   \n",
       "1         0     49400      3000         0  ...  0.30  0.33  0.032  0.099   \n",
       "2         0     65700      6000         0  ...  0.00  0.00  0.000  0.000   \n",
       "3         0     36000      2000         0  ...  0.54  0.39  0.028  0.115   \n",
       "4         0     40300      2000         0  ...  0.00  0.00  0.000  0.000   \n",
       "\n",
       "     CR    NI    CU      V     TI  zamer_chuguna  \n",
       "0  0.01  0.01  0.02  0.048  0.030        -1107.0  \n",
       "1  0.01  0.00  0.00  0.050  0.024        -3991.0  \n",
       "2  0.00  0.00  0.00  0.000  0.000         1569.0  \n",
       "3  0.02  0.01  0.03  0.059  0.042        -1415.0  \n",
       "4  0.00  0.00  0.00  0.000  0.000          305.0  \n",
       "\n",
       "[5 rows x 27 columns]"
      ]
     },
     "execution_count": 13,
     "metadata": {},
     "output_type": "execute_result"
    }
   ],
   "source": [
    "dataset_test.head()"
   ]
  },
  {
   "cell_type": "code",
   "execution_count": 14,
   "id": "b20551f6",
   "metadata": {},
   "outputs": [
    {
     "data": {
      "text/plain": [
       "NPLV                    0\n",
       "duration                0\n",
       "type_цилиндрическая    74\n",
       "napr_МНЛЗ              74\n",
       "napr_МНЛС              74\n",
       "VES_loma                0\n",
       "NML_25КШ                0\n",
       "NML_К                   0\n",
       "NML_КП                  0\n",
       "NML_КШС8                0\n",
       "NML_ЛЧ                  0\n",
       "NML_О                   0\n",
       "NML_ОК                  0\n",
       "NML_СК                  0\n",
       "NML_У2КШ                0\n",
       "VES_chuguna             0\n",
       "T                       0\n",
       "SI                      0\n",
       "MN                      0\n",
       "S                       0\n",
       "P                       0\n",
       "CR                      0\n",
       "NI                      0\n",
       "CU                      0\n",
       "V                       0\n",
       "TI                      0\n",
       "zamer_chuguna           0\n",
       "dtype: int64"
      ]
     },
     "execution_count": 14,
     "metadata": {},
     "output_type": "execute_result"
    }
   ],
   "source": [
    "dataset_train.isna().sum()"
   ]
  },
  {
   "cell_type": "code",
   "execution_count": 15,
   "id": "029429a9",
   "metadata": {},
   "outputs": [
    {
     "data": {
      "text/plain": [
       "0"
      ]
     },
     "execution_count": 15,
     "metadata": {},
     "output_type": "execute_result"
    }
   ],
   "source": [
    "dataset_test.isna().sum().sum()"
   ]
  },
  {
   "cell_type": "code",
   "execution_count": 16,
   "id": "bd097a4d",
   "metadata": {},
   "outputs": [
    {
     "data": {
      "text/plain": [
       "1.0    1874\n",
       "0.0     115\n",
       "Name: type_цилиндрическая, dtype: int64"
      ]
     },
     "execution_count": 16,
     "metadata": {},
     "output_type": "execute_result"
    }
   ],
   "source": [
    "dataset_train['type_цилиндрическая'].value_counts()"
   ]
  },
  {
   "cell_type": "code",
   "execution_count": 17,
   "id": "0e4e6bed",
   "metadata": {},
   "outputs": [
    {
     "data": {
      "text/plain": [
       "0.0    1455\n",
       "1.0     534\n",
       "Name: napr_МНЛЗ, dtype: int64"
      ]
     },
     "execution_count": 17,
     "metadata": {},
     "output_type": "execute_result"
    }
   ],
   "source": [
    "dataset_train['napr_МНЛЗ'].value_counts()"
   ]
  },
  {
   "cell_type": "code",
   "execution_count": 18,
   "id": "8afedee9",
   "metadata": {},
   "outputs": [
    {
     "data": {
      "text/plain": [
       "0.0    1082\n",
       "1.0     907\n",
       "Name: napr_МНЛС, dtype: int64"
      ]
     },
     "execution_count": 18,
     "metadata": {},
     "output_type": "execute_result"
    }
   ],
   "source": [
    "dataset_train['napr_МНЛС'].value_counts()"
   ]
  },
  {
   "cell_type": "code",
   "execution_count": 19,
   "id": "05293f7d",
   "metadata": {},
   "outputs": [],
   "source": [
    "dataset_train['type_цилиндрическая'].fillna(1, inplace=True)\n",
    "dataset_train['napr_МНЛЗ'].fillna(0, inplace=True)\n",
    "dataset_train['napr_МНЛС'].fillna(0, inplace=True)"
   ]
  },
  {
   "cell_type": "markdown",
   "id": "494f38b7",
   "metadata": {},
   "source": [
    "# Model training"
   ]
  },
  {
   "cell_type": "code",
   "execution_count": 20,
   "id": "791dc3e0",
   "metadata": {},
   "outputs": [],
   "source": [
    "from sklearn.model_selection import GridSearchCV\n",
    "from sklearn.model_selection import train_test_split"
   ]
  },
  {
   "cell_type": "code",
   "execution_count": 21,
   "id": "be875eec",
   "metadata": {},
   "outputs": [],
   "source": [
    "X_train, X_test, y_train, y_test = train_test_split(dataset_train, y, test_size=0.2, random_state=0)"
   ]
  },
  {
   "cell_type": "markdown",
   "id": "9c65e50c",
   "metadata": {},
   "source": [
    "### RandomForest"
   ]
  },
  {
   "cell_type": "code",
   "execution_count": 22,
   "id": "b72e3ba9",
   "metadata": {},
   "outputs": [],
   "source": [
    "from sklearn.ensemble import RandomForestRegressor"
   ]
  },
  {
   "cell_type": "markdown",
   "id": "c4f80a11",
   "metadata": {},
   "source": [
    "###### Temperature"
   ]
  },
  {
   "cell_type": "code",
   "execution_count": 23,
   "id": "fa6fd63e",
   "metadata": {},
   "outputs": [
    {
     "data": {
      "text/plain": [
       "RandomForestRegressor(max_depth=8, max_leaf_nodes=12, n_jobs=-1)"
      ]
     },
     "execution_count": 23,
     "metadata": {},
     "output_type": "execute_result"
    }
   ],
   "source": [
    "regressor_t = RandomForestRegressor(max_depth=8, max_leaf_nodes=12, n_estimators=100, n_jobs=-1)\n",
    "regressor_t.fit(X_train, y_train.loc[:, 'TST'])"
   ]
  },
  {
   "cell_type": "markdown",
   "id": "50068a61",
   "metadata": {},
   "source": [
    "###### C"
   ]
  },
  {
   "cell_type": "code",
   "execution_count": 24,
   "id": "b55809ee",
   "metadata": {},
   "outputs": [
    {
     "data": {
      "text/plain": [
       "RandomForestRegressor(max_depth=8, max_leaf_nodes=12, n_jobs=-1)"
      ]
     },
     "execution_count": 24,
     "metadata": {},
     "output_type": "execute_result"
    }
   ],
   "source": [
    "regressor_с = RandomForestRegressor(max_depth=8, max_leaf_nodes=12, n_estimators=100, n_jobs=-1)\n",
    "regressor_с.fit(X_train, y_train.loc[:, 'C'])"
   ]
  },
  {
   "cell_type": "markdown",
   "id": "f195414e",
   "metadata": {},
   "source": [
    "###### Metrics"
   ]
  },
  {
   "cell_type": "code",
   "execution_count": 25,
   "id": "f93e383a",
   "metadata": {},
   "outputs": [
    {
     "data": {
      "text/plain": [
       "0.48424242424242425"
      ]
     },
     "execution_count": 25,
     "metadata": {},
     "output_type": "execute_result"
    }
   ],
   "source": [
    "tr = pd.DataFrame()\n",
    "\n",
    "tr['TST'] = regressor_t.predict(X_train)\n",
    "tr['C'] = regressor_с.predict(X_train)\n",
    "\n",
    "metric(y_train, tr)"
   ]
  },
  {
   "cell_type": "code",
   "execution_count": 26,
   "id": "fa511c8f",
   "metadata": {},
   "outputs": [
    {
     "data": {
      "text/plain": [
       "0.48062953995157387"
      ]
     },
     "execution_count": 26,
     "metadata": {},
     "output_type": "execute_result"
    }
   ],
   "source": [
    "te = pd.DataFrame()\n",
    "\n",
    "te['TST'] = regressor_t.predict(X_test)\n",
    "te['C'] = regressor_с.predict(X_test)\n",
    "\n",
    "metric(y_test, te)"
   ]
  },
  {
   "cell_type": "markdown",
   "id": "a3b479a4",
   "metadata": {},
   "source": [
    "### DTree"
   ]
  },
  {
   "cell_type": "code",
   "execution_count": 27,
   "id": "3010daf0",
   "metadata": {},
   "outputs": [],
   "source": [
    "from sklearn.tree import DecisionTreeRegressor"
   ]
  },
  {
   "cell_type": "markdown",
   "id": "a4115e7a",
   "metadata": {},
   "source": [
    "###### Temperature"
   ]
  },
  {
   "cell_type": "code",
   "execution_count": 28,
   "id": "0411d5e7",
   "metadata": {},
   "outputs": [
    {
     "data": {
      "text/plain": [
       "DecisionTreeRegressor(max_depth=8, max_leaf_nodes=16, min_samples_leaf=5,\n",
       "                      random_state=0)"
      ]
     },
     "execution_count": 28,
     "metadata": {},
     "output_type": "execute_result"
    }
   ],
   "source": [
    "reg_t = DecisionTreeRegressor(max_depth=8,\n",
    "                              max_leaf_nodes=16,\n",
    "                              min_samples_leaf=5,\n",
    "                              random_state=0)\n",
    "\n",
    "reg_t.fit(X_train, y_train.loc[:,'TST'])"
   ]
  },
  {
   "cell_type": "markdown",
   "id": "25d28bf7",
   "metadata": {},
   "source": [
    "###### C"
   ]
  },
  {
   "cell_type": "code",
   "execution_count": 29,
   "id": "cd037070",
   "metadata": {
    "scrolled": true
   },
   "outputs": [
    {
     "data": {
      "text/plain": [
       "DecisionTreeRegressor(max_depth=8, max_leaf_nodes=16, min_samples_leaf=5,\n",
       "                      random_state=0)"
      ]
     },
     "execution_count": 29,
     "metadata": {},
     "output_type": "execute_result"
    }
   ],
   "source": [
    "reg_c = DecisionTreeRegressor(max_depth=8,\n",
    "                              max_leaf_nodes=16,\n",
    "                              min_samples_leaf=5,\n",
    "                              random_state=0)\n",
    "\n",
    "reg_c.fit(X_train, y_train.loc[:,'C'])"
   ]
  },
  {
   "cell_type": "markdown",
   "id": "a067c289",
   "metadata": {},
   "source": [
    "###### Metrics"
   ]
  },
  {
   "cell_type": "code",
   "execution_count": 30,
   "id": "1de06576",
   "metadata": {},
   "outputs": [
    {
     "data": {
      "text/plain": [
       "0.4951515151515152"
      ]
     },
     "execution_count": 30,
     "metadata": {},
     "output_type": "execute_result"
    }
   ],
   "source": [
    "tr_dtree = pd.DataFrame()\n",
    "\n",
    "tr_dtree['TST'] = reg_t.predict(X_train)\n",
    "tr_dtree['C'] = reg_c.predict(X_train)\n",
    "\n",
    "metric(y_train, tr_dtree)"
   ]
  },
  {
   "cell_type": "code",
   "execution_count": 31,
   "id": "426b646c",
   "metadata": {},
   "outputs": [
    {
     "data": {
      "text/plain": [
       "0.45036319612590797"
      ]
     },
     "execution_count": 31,
     "metadata": {},
     "output_type": "execute_result"
    }
   ],
   "source": [
    "te_dtree = pd.DataFrame()\n",
    "\n",
    "te_dtree['TST'] = reg_t.predict(X_test)\n",
    "te_dtree['C'] = reg_c.predict(X_test)\n",
    "\n",
    "metric(y_test, te_dtree)"
   ]
  },
  {
   "cell_type": "markdown",
   "id": "66bcceef",
   "metadata": {},
   "source": [
    "###### Results"
   ]
  },
  {
   "cell_type": "code",
   "execution_count": 32,
   "id": "0777a81d",
   "metadata": {},
   "outputs": [],
   "source": [
    "# res = pd.DataFrame()\n",
    "\n",
    "# res['NPLV'] = dataset_test['NPLV']\n",
    "\n",
    "# res['TST'] = regressor_t.predict(dataset_test)\n",
    "# res['C'] = regressor_с.predict(dataset_test)\n",
    "\n",
    "res = pd.DataFrame()\n",
    "\n",
    "res['NPLV'] = dataset_test['NPLV']\n",
    "\n",
    "res['TST'] = reg_t.predict(dataset_test)\n",
    "res['C'] = reg_c.predict(dataset_test)"
   ]
  },
  {
   "cell_type": "code",
   "execution_count": 33,
   "id": "5ce2b9ad",
   "metadata": {},
   "outputs": [],
   "source": [
    "res.to_csv('result_dtree_4.csv', index=False)"
   ]
  },
  {
   "cell_type": "code",
   "execution_count": null,
   "id": "d5713720",
   "metadata": {},
   "outputs": [],
   "source": []
  }
 ],
 "metadata": {
  "kernelspec": {
   "display_name": "Python 3 (ipykernel)",
   "language": "python",
   "name": "python3"
  },
  "language_info": {
   "codemirror_mode": {
    "name": "ipython",
    "version": 3
   },
   "file_extension": ".py",
   "mimetype": "text/x-python",
   "name": "python",
   "nbconvert_exporter": "python",
   "pygments_lexer": "ipython3",
   "version": "3.8.11"
  }
 },
 "nbformat": 4,
 "nbformat_minor": 5
}

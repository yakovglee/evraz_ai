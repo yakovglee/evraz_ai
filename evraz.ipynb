{
 "cells": [
  {
   "cell_type": "code",
   "execution_count": 1,
   "id": "778bcce1",
   "metadata": {},
   "outputs": [],
   "source": [
    "import warnings\n",
    "warnings.filterwarnings(\"ignore\")"
   ]
  },
  {
   "cell_type": "code",
   "execution_count": 2,
   "id": "864880ea",
   "metadata": {},
   "outputs": [],
   "source": [
    "import pandas as pd\n",
    "import matplotlib.pyplot as plt\n",
    "import seaborn as sns\n",
    "import numpy as np\n",
    "\n",
    "from sklearn.ensemble import RandomForestRegressor\n",
    "\n",
    "from sklearn.metrics import make_scorer\n",
    "\n",
    "from sklearn.model_selection import train_test_split\n",
    "\n",
    "from random import seed\n",
    "seed(777)"
   ]
  },
  {
   "cell_type": "code",
   "execution_count": 3,
   "id": "13ad26c7",
   "metadata": {},
   "outputs": [],
   "source": [
    "def metric(answers, user_csv):\n",
    "\n",
    "    delta_c = np.abs(np.array(answers['C']) - np.array(user_csv['C']))\n",
    "    hit_rate_c = np.int64(delta_c < 0.02)\n",
    "\n",
    "    delta_t = np.abs(np.array(answers['TST']) - np.array(user_csv['TST']))\n",
    "    hit_rate_t = np.int64(delta_t < 20)\n",
    "\n",
    "    N = np.size(answers['C'])\n",
    "\n",
    "    return np.sum(hit_rate_c + hit_rate_t) / 2 / N\n",
    "\n",
    "score = make_scorer(metric, greater_is_better=False)"
   ]
  },
  {
   "cell_type": "code",
   "execution_count": 43,
   "id": "bf159170",
   "metadata": {},
   "outputs": [],
   "source": [
    "def prepare_plavki(dataset):\n",
    "    \"\"\"\n",
    "        Удаляем все признаки, кроме времени. \n",
    "        Переводим в pd.datetime и вычисляем продолжительность в секундах\n",
    "    \"\"\"\n",
    "    df = dataset.copy()\n",
    "    \n",
    "    df.drop(columns=['plavka_NMZ', 'plavka_TIPE_FUR', 'plavka_NAPR_ZAD', 'plavka_STFUT',\n",
    "                     'plavka_ST_FURM', 'plavka_TIPE_GOL', 'plavka_ST_GOL'], inplace=True)\n",
    "    \n",
    "    df.drop_duplicates(subset=['NPLV'], keep='first', inplace=True)\n",
    "    \n",
    "    df['plavka_VR_NACH'] = pd.to_datetime(df['plavka_VR_NACH'])\n",
    "    df['plavka_VR_KON'] = pd.to_datetime(df['plavka_VR_KON'])\n",
    "    df['duration'] = df['plavka_VR_KON'] - df['plavka_VR_NACH']\n",
    "    df['duration'] = df['duration'].dt.total_seconds()\n",
    "    \n",
    "    return df\n",
    "\n",
    "\n",
    "def prepare_lom(dataset):\n",
    "    \"\"\"\n",
    "        Суммирует массу всех ломов, которые были использованы\n",
    "    \"\"\"                \n",
    "    dataset.rename(columns={\"VES\":\"VES_loma\"}, inplace=True)\n",
    "    \n",
    "    return dataset.drop(columns='VDL').groupby('NPLV').sum().reset_index()\n",
    "\n",
    "\n",
    "def prepare_chugun(dataset):\n",
    "    \"\"\"\n",
    "        Переводит 'DATA_ZAMERA' к pd.datetimeи переименовывает в \"zamer_chuguna\"\n",
    "    \"\"\"\n",
    "    df = dataset\n",
    "    df[dataset.columns[-1]] = pd.to_datetime(df[df.columns[-1]])\n",
    "    df.rename(columns={df.columns[-1]: \"zamer_chuguna\", \"VES\":\"VES_chuguna\"}, inplace=True)\n",
    "    \n",
    "    return df\n",
    "\n",
    "\n",
    "def prepare_sip(dataset):\n",
    "    \"\"\"\n",
    "        Суммирует массу, всех входящих элементов \n",
    "    \"\"\"\n",
    "    df_sip = pd.DataFrame(index=dataset['NPLV'].unique(),\n",
    "                          columns=['VES_sip']).reset_index()\n",
    "\n",
    "    df_sip.rename(columns={\"index\": \"NPLV\"}, inplace=True)\n",
    "\n",
    "    for num in dataset['NPLV'].unique():\n",
    "        df_sip['VES_sip'].loc[df_sip['NPLV'] == num] = \\\n",
    "        dataset.loc[dataset['NPLV'] == num]['VSSYP'].sum()\n",
    "   \n",
    "    return df_sip\n",
    "\n",
    "\n",
    "def prepare_dataset(plavki, lom, chugun, sip):\n",
    "    dataset = plavki.copy()\n",
    "    dataset = dataset.join(lom.set_index('NPLV'), on='NPLV')\n",
    "    dataset = dataset.join(chugun.set_index('NPLV'), on='NPLV')\n",
    "    dataset = dataset.join(sip.set_index('NPLV'), on='NPLV')    \n",
    "    \n",
    "    dataset['zamer_chuguna'] = dataset['zamer_chuguna'] - dataset['plavka_VR_NACH']\n",
    "    dataset['zamer_chuguna'] = dataset['zamer_chuguna'].dt.total_seconds()\n",
    "    \n",
    "    dataset.drop(columns=['plavka_VR_NACH', 'plavka_VR_KON'], inplace=True)\n",
    "    \n",
    "    return dataset"
   ]
  },
  {
   "cell_type": "code",
   "execution_count": 12,
   "id": "6f2bb87e",
   "metadata": {},
   "outputs": [],
   "source": [
    "plavki_train = pd.read_csv('train/plavki_train.csv')\n",
    "plavki_test = pd.read_csv('test/plavki_test.csv')\n",
    "\n",
    "lom_train = pd.read_csv('train/lom_train.csv')\n",
    "lom_test = pd.read_csv('test/lom_test.csv')\n",
    "\n",
    "chugun_train = pd.read_csv('train/chugun_train.csv')\n",
    "chugun_test = pd.read_csv('test/chugun_test.csv')\n",
    "\n",
    "sip_train = pd.read_csv('train/sip_train.csv')\n",
    "sip_test = pd.read_csv('test/sip_test.csv')"
   ]
  },
  {
   "cell_type": "code",
   "execution_count": 44,
   "id": "ae711f77",
   "metadata": {},
   "outputs": [],
   "source": [
    "plavki_tr = prepare_plavki(plavki_train)\n",
    "plavki_te = prepare_plavki(plavki_test)\n",
    "\n",
    "lom_tr = prepare_lom(lom_train)\n",
    "lom_te = prepare_lom(lom_test)\n",
    "\n",
    "chugun_tr = prepare_chugun(chugun_train)\n",
    "chugun_te = prepare_chugun(chugun_test)\n",
    "\n",
    "sip_tr = prepare_sip(sip_train)\n",
    "sip_te = prepare_sip(sip_test)"
   ]
  },
  {
   "cell_type": "code",
   "execution_count": 45,
   "id": "2d370c0c",
   "metadata": {},
   "outputs": [],
   "source": [
    "dataset_train = prepare_dataset(plavki_tr, lom_tr, chugun_tr, sip_tr)\n",
    "dataset_test = prepare_dataset(plavki_te, lom_te, chugun_te, sip_te)"
   ]
  },
  {
   "cell_type": "code",
   "execution_count": 46,
   "id": "af431c54",
   "metadata": {},
   "outputs": [
    {
     "data": {
      "text/plain": [
       "((2063, 16), (780, 16))"
      ]
     },
     "execution_count": 46,
     "metadata": {},
     "output_type": "execute_result"
    }
   ],
   "source": [
    "dataset_train.shape, dataset_test.shape"
   ]
  },
  {
   "cell_type": "code",
   "execution_count": 47,
   "id": "1336a6f3",
   "metadata": {},
   "outputs": [
    {
     "data": {
      "text/html": [
       "<div>\n",
       "<style scoped>\n",
       "    .dataframe tbody tr th:only-of-type {\n",
       "        vertical-align: middle;\n",
       "    }\n",
       "\n",
       "    .dataframe tbody tr th {\n",
       "        vertical-align: top;\n",
       "    }\n",
       "\n",
       "    .dataframe thead th {\n",
       "        text-align: right;\n",
       "    }\n",
       "</style>\n",
       "<table border=\"1\" class=\"dataframe\">\n",
       "  <thead>\n",
       "    <tr style=\"text-align: right;\">\n",
       "      <th></th>\n",
       "      <th>NPLV</th>\n",
       "      <th>duration</th>\n",
       "      <th>VES_loma</th>\n",
       "      <th>VES_chuguna</th>\n",
       "      <th>T</th>\n",
       "      <th>SI</th>\n",
       "      <th>MN</th>\n",
       "      <th>S</th>\n",
       "      <th>P</th>\n",
       "      <th>CR</th>\n",
       "      <th>NI</th>\n",
       "      <th>CU</th>\n",
       "      <th>V</th>\n",
       "      <th>TI</th>\n",
       "      <th>zamer_chuguna</th>\n",
       "      <th>VES_sip</th>\n",
       "    </tr>\n",
       "  </thead>\n",
       "  <tbody>\n",
       "    <tr>\n",
       "      <th>0</th>\n",
       "      <td>510008</td>\n",
       "      <td>2579.0</td>\n",
       "      <td>76200</td>\n",
       "      <td>263700.0</td>\n",
       "      <td>1396.0</td>\n",
       "      <td>0.44</td>\n",
       "      <td>0.22</td>\n",
       "      <td>0.023</td>\n",
       "      <td>0.097</td>\n",
       "      <td>0.03</td>\n",
       "      <td>0.01</td>\n",
       "      <td>0.03</td>\n",
       "      <td>0.103</td>\n",
       "      <td>0.084</td>\n",
       "      <td>412.0</td>\n",
       "      <td>20970</td>\n",
       "    </tr>\n",
       "    <tr>\n",
       "      <th>1</th>\n",
       "      <td>510009</td>\n",
       "      <td>4004.0</td>\n",
       "      <td>78600</td>\n",
       "      <td>264500.0</td>\n",
       "      <td>1419.0</td>\n",
       "      <td>0.68</td>\n",
       "      <td>0.20</td>\n",
       "      <td>0.017</td>\n",
       "      <td>0.087</td>\n",
       "      <td>0.02</td>\n",
       "      <td>0.01</td>\n",
       "      <td>0.03</td>\n",
       "      <td>0.084</td>\n",
       "      <td>0.096</td>\n",
       "      <td>1384.0</td>\n",
       "      <td>23780</td>\n",
       "    </tr>\n",
       "    <tr>\n",
       "      <th>2</th>\n",
       "      <td>510010</td>\n",
       "      <td>2904.0</td>\n",
       "      <td>76300</td>\n",
       "      <td>263800.0</td>\n",
       "      <td>1384.0</td>\n",
       "      <td>0.56</td>\n",
       "      <td>0.26</td>\n",
       "      <td>0.017</td>\n",
       "      <td>0.096</td>\n",
       "      <td>0.03</td>\n",
       "      <td>0.01</td>\n",
       "      <td>0.03</td>\n",
       "      <td>0.115</td>\n",
       "      <td>0.110</td>\n",
       "      <td>551.0</td>\n",
       "      <td>24070</td>\n",
       "    </tr>\n",
       "    <tr>\n",
       "      <th>3</th>\n",
       "      <td>510011</td>\n",
       "      <td>3291.0</td>\n",
       "      <td>84100</td>\n",
       "      <td>264000.0</td>\n",
       "      <td>1401.0</td>\n",
       "      <td>0.48</td>\n",
       "      <td>0.27</td>\n",
       "      <td>0.018</td>\n",
       "      <td>0.091</td>\n",
       "      <td>0.03</td>\n",
       "      <td>0.01</td>\n",
       "      <td>0.02</td>\n",
       "      <td>0.112</td>\n",
       "      <td>0.110</td>\n",
       "      <td>429.0</td>\n",
       "      <td>27300</td>\n",
       "    </tr>\n",
       "    <tr>\n",
       "      <th>4</th>\n",
       "      <td>510012</td>\n",
       "      <td>2895.0</td>\n",
       "      <td>76100</td>\n",
       "      <td>263300.0</td>\n",
       "      <td>1422.0</td>\n",
       "      <td>0.47</td>\n",
       "      <td>0.23</td>\n",
       "      <td>0.018</td>\n",
       "      <td>0.096</td>\n",
       "      <td>0.02</td>\n",
       "      <td>0.01</td>\n",
       "      <td>0.03</td>\n",
       "      <td>0.083</td>\n",
       "      <td>0.070</td>\n",
       "      <td>558.0</td>\n",
       "      <td>28540</td>\n",
       "    </tr>\n",
       "  </tbody>\n",
       "</table>\n",
       "</div>"
      ],
      "text/plain": [
       "     NPLV  duration  VES_loma  VES_chuguna       T    SI    MN      S      P  \\\n",
       "0  510008    2579.0     76200     263700.0  1396.0  0.44  0.22  0.023  0.097   \n",
       "1  510009    4004.0     78600     264500.0  1419.0  0.68  0.20  0.017  0.087   \n",
       "2  510010    2904.0     76300     263800.0  1384.0  0.56  0.26  0.017  0.096   \n",
       "3  510011    3291.0     84100     264000.0  1401.0  0.48  0.27  0.018  0.091   \n",
       "4  510012    2895.0     76100     263300.0  1422.0  0.47  0.23  0.018  0.096   \n",
       "\n",
       "     CR    NI    CU      V     TI  zamer_chuguna VES_sip  \n",
       "0  0.03  0.01  0.03  0.103  0.084          412.0   20970  \n",
       "1  0.02  0.01  0.03  0.084  0.096         1384.0   23780  \n",
       "2  0.03  0.01  0.03  0.115  0.110          551.0   24070  \n",
       "3  0.03  0.01  0.02  0.112  0.110          429.0   27300  \n",
       "4  0.02  0.01  0.03  0.083  0.070          558.0   28540  "
      ]
     },
     "execution_count": 47,
     "metadata": {},
     "output_type": "execute_result"
    }
   ],
   "source": [
    "dataset_train.head()"
   ]
  },
  {
   "cell_type": "code",
   "execution_count": 48,
   "id": "56227ecf",
   "metadata": {},
   "outputs": [
    {
     "data": {
      "text/html": [
       "<div>\n",
       "<style scoped>\n",
       "    .dataframe tbody tr th:only-of-type {\n",
       "        vertical-align: middle;\n",
       "    }\n",
       "\n",
       "    .dataframe tbody tr th {\n",
       "        vertical-align: top;\n",
       "    }\n",
       "\n",
       "    .dataframe thead th {\n",
       "        text-align: right;\n",
       "    }\n",
       "</style>\n",
       "<table border=\"1\" class=\"dataframe\">\n",
       "  <thead>\n",
       "    <tr style=\"text-align: right;\">\n",
       "      <th></th>\n",
       "      <th>NPLV</th>\n",
       "      <th>duration</th>\n",
       "      <th>VES_loma</th>\n",
       "      <th>VES_chuguna</th>\n",
       "      <th>T</th>\n",
       "      <th>SI</th>\n",
       "      <th>MN</th>\n",
       "      <th>S</th>\n",
       "      <th>P</th>\n",
       "      <th>CR</th>\n",
       "      <th>NI</th>\n",
       "      <th>CU</th>\n",
       "      <th>V</th>\n",
       "      <th>TI</th>\n",
       "      <th>zamer_chuguna</th>\n",
       "      <th>VES_sip</th>\n",
       "    </tr>\n",
       "  </thead>\n",
       "  <tbody>\n",
       "    <tr>\n",
       "      <th>0</th>\n",
       "      <td>512324</td>\n",
       "      <td>3886.0</td>\n",
       "      <td>45700</td>\n",
       "      <td>240100.0</td>\n",
       "      <td>1355.0</td>\n",
       "      <td>0.46</td>\n",
       "      <td>0.33</td>\n",
       "      <td>0.027</td>\n",
       "      <td>0.079</td>\n",
       "      <td>0.01</td>\n",
       "      <td>0.01</td>\n",
       "      <td>0.02</td>\n",
       "      <td>0.048</td>\n",
       "      <td>0.030</td>\n",
       "      <td>-1107.0</td>\n",
       "      <td>16940</td>\n",
       "    </tr>\n",
       "    <tr>\n",
       "      <th>1</th>\n",
       "      <td>512327</td>\n",
       "      <td>3325.0</td>\n",
       "      <td>71000</td>\n",
       "      <td>266400.0</td>\n",
       "      <td>1390.0</td>\n",
       "      <td>0.30</td>\n",
       "      <td>0.33</td>\n",
       "      <td>0.032</td>\n",
       "      <td>0.099</td>\n",
       "      <td>0.01</td>\n",
       "      <td>0.00</td>\n",
       "      <td>0.00</td>\n",
       "      <td>0.050</td>\n",
       "      <td>0.024</td>\n",
       "      <td>-3991.0</td>\n",
       "      <td>15340</td>\n",
       "    </tr>\n",
       "    <tr>\n",
       "      <th>2</th>\n",
       "      <td>512328</td>\n",
       "      <td>5780.0</td>\n",
       "      <td>71700</td>\n",
       "      <td>270200.0</td>\n",
       "      <td>1373.0</td>\n",
       "      <td>0.00</td>\n",
       "      <td>0.00</td>\n",
       "      <td>0.000</td>\n",
       "      <td>0.000</td>\n",
       "      <td>0.00</td>\n",
       "      <td>0.00</td>\n",
       "      <td>0.00</td>\n",
       "      <td>0.000</td>\n",
       "      <td>0.000</td>\n",
       "      <td>1569.0</td>\n",
       "      <td>21410</td>\n",
       "    </tr>\n",
       "    <tr>\n",
       "      <th>3</th>\n",
       "      <td>512331</td>\n",
       "      <td>5252.0</td>\n",
       "      <td>70500</td>\n",
       "      <td>266700.0</td>\n",
       "      <td>1383.0</td>\n",
       "      <td>0.54</td>\n",
       "      <td>0.39</td>\n",
       "      <td>0.028</td>\n",
       "      <td>0.115</td>\n",
       "      <td>0.02</td>\n",
       "      <td>0.01</td>\n",
       "      <td>0.03</td>\n",
       "      <td>0.059</td>\n",
       "      <td>0.042</td>\n",
       "      <td>-1415.0</td>\n",
       "      <td>14990</td>\n",
       "    </tr>\n",
       "    <tr>\n",
       "      <th>4</th>\n",
       "      <td>512333</td>\n",
       "      <td>3828.0</td>\n",
       "      <td>104500</td>\n",
       "      <td>267400.0</td>\n",
       "      <td>1387.0</td>\n",
       "      <td>0.00</td>\n",
       "      <td>0.00</td>\n",
       "      <td>0.000</td>\n",
       "      <td>0.000</td>\n",
       "      <td>0.00</td>\n",
       "      <td>0.00</td>\n",
       "      <td>0.00</td>\n",
       "      <td>0.000</td>\n",
       "      <td>0.000</td>\n",
       "      <td>305.0</td>\n",
       "      <td>21060</td>\n",
       "    </tr>\n",
       "  </tbody>\n",
       "</table>\n",
       "</div>"
      ],
      "text/plain": [
       "     NPLV  duration  VES_loma  VES_chuguna       T    SI    MN      S      P  \\\n",
       "0  512324    3886.0     45700     240100.0  1355.0  0.46  0.33  0.027  0.079   \n",
       "1  512327    3325.0     71000     266400.0  1390.0  0.30  0.33  0.032  0.099   \n",
       "2  512328    5780.0     71700     270200.0  1373.0  0.00  0.00  0.000  0.000   \n",
       "3  512331    5252.0     70500     266700.0  1383.0  0.54  0.39  0.028  0.115   \n",
       "4  512333    3828.0    104500     267400.0  1387.0  0.00  0.00  0.000  0.000   \n",
       "\n",
       "     CR    NI    CU      V     TI  zamer_chuguna VES_sip  \n",
       "0  0.01  0.01  0.02  0.048  0.030        -1107.0   16940  \n",
       "1  0.01  0.00  0.00  0.050  0.024        -3991.0   15340  \n",
       "2  0.00  0.00  0.00  0.000  0.000         1569.0   21410  \n",
       "3  0.02  0.01  0.03  0.059  0.042        -1415.0   14990  \n",
       "4  0.00  0.00  0.00  0.000  0.000          305.0   21060  "
      ]
     },
     "execution_count": 48,
     "metadata": {},
     "output_type": "execute_result"
    }
   ],
   "source": [
    "dataset_test.head()"
   ]
  },
  {
   "cell_type": "code",
   "execution_count": 49,
   "id": "ac50551a",
   "metadata": {},
   "outputs": [],
   "source": [
    "dataset_train.to_csv('train.csv', index=False)"
   ]
  },
  {
   "cell_type": "code",
   "execution_count": 50,
   "id": "72e254af",
   "metadata": {},
   "outputs": [],
   "source": [
    "dataset_test.to_csv('test.csv', index=False)"
   ]
  },
  {
   "cell_type": "code",
   "execution_count": 51,
   "id": "0cfda0da",
   "metadata": {},
   "outputs": [],
   "source": [
    "y = pd.read_csv('train/target_train.csv')\n",
    "\n",
    "y.fillna(0, inplace=True)"
   ]
  },
  {
   "cell_type": "code",
   "execution_count": 52,
   "id": "0f779b95",
   "metadata": {},
   "outputs": [],
   "source": [
    "X_train, X_test, y_train, y_test = train_test_split(dataset_train, y, test_size=0.2, random_state=0)"
   ]
  },
  {
   "cell_type": "code",
   "execution_count": 53,
   "id": "2b0cfd86",
   "metadata": {},
   "outputs": [],
   "source": [
    "regressor_c = RandomForestRegressor(random_state=0, max_depth=10, max_leaf_nodes=6)\n",
    "regressor_t = RandomForestRegressor(random_state=0, max_depth=10, max_leaf_nodes=6)"
   ]
  },
  {
   "cell_type": "code",
   "execution_count": 54,
   "id": "55dc966c",
   "metadata": {},
   "outputs": [
    {
     "data": {
      "text/plain": [
       "RandomForestRegressor(max_depth=10, max_leaf_nodes=6, random_state=0)"
      ]
     },
     "execution_count": 54,
     "metadata": {},
     "output_type": "execute_result"
    }
   ],
   "source": [
    "regressor_t.fit(X_train, y_train.loc[:,'TST'])"
   ]
  },
  {
   "cell_type": "code",
   "execution_count": 55,
   "id": "127e5ea5",
   "metadata": {},
   "outputs": [
    {
     "data": {
      "text/plain": [
       "RandomForestRegressor(max_depth=10, max_leaf_nodes=6, random_state=0)"
      ]
     },
     "execution_count": 55,
     "metadata": {},
     "output_type": "execute_result"
    }
   ],
   "source": [
    "regressor_c.fit(X_train, y_train.loc[:,'C'])"
   ]
  },
  {
   "cell_type": "code",
   "execution_count": 56,
   "id": "59325c6f",
   "metadata": {},
   "outputs": [],
   "source": [
    "tr = pd.DataFrame()\n",
    "\n",
    "tr['TST'] = regressor_t.predict(X_train)\n",
    "tr['C'] = regressor_c.predict(X_train)"
   ]
  },
  {
   "cell_type": "code",
   "execution_count": 57,
   "id": "e2f2fe22",
   "metadata": {},
   "outputs": [
    {
     "data": {
      "text/plain": [
       "0.4766666666666667"
      ]
     },
     "execution_count": 57,
     "metadata": {},
     "output_type": "execute_result"
    }
   ],
   "source": [
    "metric(y_train, tr)"
   ]
  },
  {
   "cell_type": "code",
   "execution_count": 58,
   "id": "9a0a6d1a",
   "metadata": {},
   "outputs": [],
   "source": [
    "te = pd.DataFrame()\n",
    "\n",
    "te['TST'] = regressor_t.predict(X_test)\n",
    "te['C'] = regressor_c.predict(X_test)"
   ]
  },
  {
   "cell_type": "code",
   "execution_count": 59,
   "id": "ae7255db",
   "metadata": {},
   "outputs": [
    {
     "data": {
      "text/plain": [
       "0.4794188861985472"
      ]
     },
     "execution_count": 59,
     "metadata": {},
     "output_type": "execute_result"
    }
   ],
   "source": [
    "metric(y_test, te)"
   ]
  },
  {
   "cell_type": "code",
   "execution_count": 60,
   "id": "bf2f5cf0",
   "metadata": {},
   "outputs": [],
   "source": [
    "res = pd.DataFrame()\n",
    "\n",
    "res['NPLV'] = dataset_test['NPLV'].copy()\n",
    "\n",
    "res['TST'] = regressor_t.predict(dataset_test)\n",
    "res['C'] = regressor_c.predict(dataset_test)"
   ]
  },
  {
   "cell_type": "code",
   "execution_count": 61,
   "id": "f23ccf7a",
   "metadata": {},
   "outputs": [],
   "source": [
    "res.to_csv('result.csv', index=False)"
   ]
  },
  {
   "cell_type": "code",
   "execution_count": null,
   "id": "284a7f71",
   "metadata": {},
   "outputs": [],
   "source": []
  }
 ],
 "metadata": {
  "kernelspec": {
   "display_name": "Python 3 (ipykernel)",
   "language": "python",
   "name": "python3"
  },
  "language_info": {
   "codemirror_mode": {
    "name": "ipython",
    "version": 3
   },
   "file_extension": ".py",
   "mimetype": "text/x-python",
   "name": "python",
   "nbconvert_exporter": "python",
   "pygments_lexer": "ipython3",
   "version": "3.8.11"
  }
 },
 "nbformat": 4,
 "nbformat_minor": 5
}
